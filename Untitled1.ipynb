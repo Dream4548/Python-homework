{
 "cells": [
  {
   "cell_type": "code",
   "execution_count": 28,
   "id": "35424cb3-35b9-482f-ae71-d82ddc66bfba",
   "metadata": {},
   "outputs": [
    {
     "name": "stdin",
     "output_type": "stream",
     "text": [
      "Enter Score Student 1 : 90\n",
      "Enter Score Student 1 : 57\n",
      "Enter Score Student 1 : 30\n",
      "Enter Score Student 1 : 89\n",
      "Enter Score Student 1 : 70\n"
     ]
    },
    {
     "name": "stdout",
     "output_type": "stream",
     "text": [
      "Show Student Grade\n",
      "Student 1 \n",
      " Score 90 Grad A\n",
      "Student 2 \n",
      " Score 57 Grad E\n",
      "Student 3 \n",
      " Score 30 Grad F\n",
      "Student 4 \n",
      " Score 89 Grad B\n",
      "Student 5 \n",
      " Score 70 Grad C\n"
     ]
    }
   ],
   "source": [
    "def CG(scores):\n",
    "    if scores >= 90 and scores <= 100:\n",
    "        return 'A'\n",
    "    elif scores >= 80 and scores <= 89:\n",
    "        return 'B'\n",
    "    elif scores >= 70 and scores <= 79:\n",
    "        return 'C'\n",
    "    elif scores >= 60 and scores <= 69:\n",
    "        return 'D'\n",
    "    elif scores >= 50 and scores <= 59:\n",
    "        return 'E'\n",
    "    else:\n",
    "        return 'F'\n",
    "    \n",
    "std1=int(input(\"Enter Score Student 1 :\"))\n",
    "std2=int(input(\"Enter Score Student 2 :\")) \n",
    "std3=int(input(\"Enter Score Student 3 :\")) \n",
    "std4=int(input(\"Enter Score Student 4 :\")) \n",
    "std5=int(input(\"Enter Score Student 5 :\")) \n",
    "print(\"Show Student Grade\")\n",
    "print(\"Student 1 \\n Score\",std1,\"Grad\",CG(std1))\n",
    "print(\"Student 2 \\n Score\",std2,\"Grad\",CG(std2))\n",
    "print(\"Student 3 \\n Score\",std3,\"Grad\",CG(std3))\n",
    "print(\"Student 4 \\n Score\",std4,\"Grad\",CG(std4))\n",
    "print(\"Student 5 \\n Score\",std5,\"Grad\",CG(std5))"
   ]
  },
  {
   "cell_type": "code",
   "execution_count": null,
   "id": "09f849e2-fd14-4ce7-bc1b-8694f1be5e19",
   "metadata": {},
   "outputs": [],
   "source": []
  }
 ],
 "metadata": {
  "kernelspec": {
   "display_name": "Python 3 (ipykernel)",
   "language": "python",
   "name": "python3"
  },
  "language_info": {
   "codemirror_mode": {
    "name": "ipython",
    "version": 3
   },
   "file_extension": ".py",
   "mimetype": "text/x-python",
   "name": "python",
   "nbconvert_exporter": "python",
   "pygments_lexer": "ipython3",
   "version": "3.9.13"
  }
 },
 "nbformat": 4,
 "nbformat_minor": 5
}
