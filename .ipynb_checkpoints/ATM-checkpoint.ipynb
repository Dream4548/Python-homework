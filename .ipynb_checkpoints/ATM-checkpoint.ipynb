{
 "cells": [
  {
   "cell_type": "code",
   "execution_count": 5,
   "id": "6d9e6ebf-1068-45c2-9406-94d1a907e48d",
   "metadata": {},
   "outputs": [
    {
     "data": {
      "text/plain": [
       "'\\nนาย รัชชานนท์ เกษแก้ว ปี1 6512732117\\n'"
      ]
     },
     "execution_count": 5,
     "metadata": {},
     "output_type": "execute_result"
    }
   ],
   "source": [
    "\"\"\"\n",
    "นาย รัชชานนท์ เกษแก้ว ปี1 6512732117\n",
    "\"\"\""
   ]
  },
  {
   "cell_type": "code",
   "execution_count": 4,
   "id": "4307564d-62b8-4d23-9cd6-034160aeb137",
   "metadata": {},
   "outputs": [
    {
     "name": "stdin",
     "output_type": "stream",
     "text": [
      "กรุณาใส่จำนวนเงิน :  6600\n"
     ]
    },
    {
     "name": "stdout",
     "output_type": "stream",
     "text": [
      "1000 : 6\n",
      "500 : 1\n",
      "100 : 1\n"
     ]
    }
   ],
   "source": [
    "money = int(input(\"กรุณาใส่จำนวนเงิน : \"))\n",
    "if money % 100 == 0:\n",
    "    print(\"1000 : {}\".format(money // 1000))\n",
    "    print(\"500 : {}\".format((money %1000)// 500))\n",
    "    print(\"100 : {}\".format(((money % 1000) %500) // 100))\n",
    "else:\n",
    "    print(\"ไม่สามารถทำรายการได้\")"
   ]
  },
  {
   "cell_type": "code",
   "execution_count": null,
   "id": "de32d697-9d2d-4fbd-b186-8a98762fd7f1",
   "metadata": {},
   "outputs": [],
   "source": []
  }
 ],
 "metadata": {
  "kernelspec": {
   "display_name": "Python 3 (ipykernel)",
   "language": "python",
   "name": "python3"
  },
  "language_info": {
   "codemirror_mode": {
    "name": "ipython",
    "version": 3
   },
   "file_extension": ".py",
   "mimetype": "text/x-python",
   "name": "python",
   "nbconvert_exporter": "python",
   "pygments_lexer": "ipython3",
   "version": "3.9.13"
  }
 },
 "nbformat": 4,
 "nbformat_minor": 5
}
