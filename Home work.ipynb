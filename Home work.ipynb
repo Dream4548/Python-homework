{
 "cells": [
  {
   "cell_type": "markdown",
   "id": "4b11e638-856f-4cf8-8ab7-dd9219c479d1",
   "metadata": {
    "tags": []
   },
   "source": [
    "## ใบงานที่ (1):การส่งการบ้านผ่านGit"
   ]
  },
  {
   "cell_type": "raw",
   "id": "307a68f0-dea4-4cc7-acc2-e4d161ee5ba4",
   "metadata": {},
   "source": [
    "นาย รัชชานนท์ เกษแก้ว 6512732117"
   ]
  },
  {
   "cell_type": "code",
   "execution_count": 1,
   "id": "718039e6-1eb8-4154-9644-761267b69a2b",
   "metadata": {},
   "outputs": [
    {
     "name": "stdout",
     "output_type": "stream",
     "text": [
      "Hello wolrd\n"
     ]
    }
   ],
   "source": [
    "print(\"Hello wolrd\")"
   ]
  },
  {
   "cell_type": "code",
   "execution_count": null,
   "id": "e79aed52-c97f-441a-8d9c-d5fbc2036aac",
   "metadata": {},
   "outputs": [],
   "source": []
  }
 ],
 "metadata": {
  "kernelspec": {
   "display_name": "Python 3 (ipykernel)",
   "language": "python",
   "name": "python3"
  },
  "language_info": {
   "codemirror_mode": {
    "name": "ipython",
    "version": 3
   },
   "file_extension": ".py",
   "mimetype": "text/x-python",
   "name": "python",
   "nbconvert_exporter": "python",
   "pygments_lexer": "ipython3",
   "version": "3.9.13"
  }
 },
 "nbformat": 4,
 "nbformat_minor": 5
}
